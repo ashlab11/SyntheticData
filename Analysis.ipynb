{
 "cells": [
  {
   "cell_type": "code",
   "execution_count": 1,
   "metadata": {},
   "outputs": [],
   "source": [
    "import pandas as pd\n",
    "import numpy as np\n",
    "import seaborn as sns\n",
    "import matplotlib.pyplot as plt\n",
    "from scipy.stats import ttest_rel\n",
    "\n",
    "\n",
    "# Load the results\n",
    "original_results = pd.read_csv(\"original_results_detailed.csv\")\n",
    "synthpop_results = pd.read_csv(\"synthpop_results_detailed.csv\")\n",
    "synthesizer_results = pd.read_csv(\"synthesizer_results_detailed.csv\")\n",
    "\n",
    "# Combine all results into one DataFrame\n",
    "original_results['method'] = 'original'\n",
    "synthpop_results['method'] = 'synthpop'\n",
    "synthesizer_results['method'] = 'synthesizer'\n",
    "all_results = pd.concat([original_results, synthpop_results, synthesizer_results])\n",
    "all_results['data_type'] = all_results['data_type'].map({'original': 'real', 'mar': 'mar', 'mnar': 'mnar'})\n",
    "all_results.to_csv(\"all_results_detailed.csv\", index=False)"
   ]
  },
  {
   "cell_type": "code",
   "execution_count": 66,
   "metadata": {},
   "outputs": [
    {
     "name": "stdout",
     "output_type": "stream",
     "text": [
      "                     Model  Synthesizer Compared Data   P-Value\n",
      "0                 agnostic  synthesizer           mar  0.477620\n",
      "1                 agnostic  synthesizer          mnar  0.618451\n",
      "2                 agnostic     synthpop           mar  0.454127\n",
      "3                 agnostic     synthpop          mnar  0.174963\n",
      "4   xgbregressor_no_impute  synthesizer           mar  0.610389\n",
      "5   xgbregressor_no_impute  synthesizer          mnar  0.655940\n",
      "6   xgbregressor_no_impute     synthpop           mar  0.894359\n",
      "7   xgbregressor_no_impute     synthpop          mnar  0.201204\n",
      "8             xgbregressor  synthesizer           mar  0.585687\n",
      "9             xgbregressor  synthesizer          mnar  0.871979\n",
      "10            xgbregressor     synthpop           mar  0.862125\n",
      "11            xgbregressor     synthpop          mnar  0.436933\n",
      "12   randomforestregressor  synthesizer           mar  0.010265\n",
      "13   randomforestregressor  synthesizer          mnar  0.490536\n",
      "14   randomforestregressor     synthpop           mar  0.742393\n",
      "15   randomforestregressor     synthpop          mnar  0.234101\n",
      "16                   lasso  synthesizer           mar  0.216584\n",
      "17                   lasso  synthesizer          mnar  0.085614\n",
      "18                   lasso     synthpop           mar  0.551287\n",
      "19                   lasso     synthpop          mnar  0.807141\n",
      "20                   ridge  synthesizer           mar  0.770768\n",
      "21                   ridge  synthesizer          mnar  0.044288\n",
      "22                   ridge     synthpop           mar  0.509810\n",
      "23                   ridge     synthpop          mnar  0.853656\n",
      "24     kneighborsregressor  synthesizer           mar  0.604824\n",
      "25     kneighborsregressor  synthesizer          mnar  0.195724\n",
      "26     kneighborsregressor     synthpop           mar  0.670030\n",
      "27     kneighborsregressor     synthpop          mnar  0.892098\n",
      "28                     svr  synthesizer           mar  0.606168\n",
      "29                     svr  synthesizer          mnar  0.787254\n",
      "30                     svr     synthpop           mar  0.243633\n",
      "31                     svr     synthpop          mnar  0.690828\n"
     ]
    }
   ],
   "source": [
    "model_agnostic = all_results.groupby(['run','method', 'data_type']).agg({'score': 'mean'}).reset_index()\n",
    "ttest_rel(model_agnostic[model_agnostic['method'] == 'original']['score'], model_agnostic[model_agnostic['method'] == 'synthesizer']['score'])\n",
    "\n",
    "results = []\n",
    "for model in ['agnostic', 'xgbregressor_no_impute', 'xgbregressor', 'randomforestregressor', 'lasso', 'ridge', 'kneighborsregressor', 'svr']:\n",
    "    for method in ['synthesizer', 'synthpop']:\n",
    "        for data_type in ['mar', 'mnar']:\n",
    "            if model == \"agnostic\":\n",
    "                synth_df = all_results[(all_results['method'] == method)]\n",
    "                original_df = all_results[(all_results['method'] == 'original')]\n",
    "            else:\n",
    "                synth_df = all_results[(all_results['method'] == method) & (all_results['model'] == model)]\n",
    "                original_df = all_results[(all_results['method'] == 'original') & (all_results['model'] == model)]\n",
    "            \n",
    "            data_type_diff = synth_df[synth_df['data_type'] == data_type]['score'].values - original_df[original_df['data_type'] == data_type]['score'].values\n",
    "            no_missing_diff = synth_df[synth_df['data_type'] == 'real']['score'].values - original_df[original_df['data_type'] == 'real']['score'].values\n",
    "            t_test = ttest_rel(data_type_diff, no_missing_diff)\n",
    "            results.append({\n",
    "                'Model': model,\n",
    "                \"Synthesizer\": method,\n",
    "                'Compared Data': data_type,\n",
    "                'P-Value': t_test[1]\n",
    "            })  \n",
    "#difference between original and synthpop\n",
    "mar_original_synthpop_diff = all_results[(all_results['method'] == 'original') & \n",
    "                                            (all_results['data_type'] == 'mnar')]['score'].values - all_results[\n",
    "                                                (all_results['method'] == 'synthpop') & (all_results['data_type'] == 'mnar')]['score'].values\n",
    "                                            \n",
    "real_original_synthpop_diff = all_results[(all_results['method'] == 'original') & \n",
    "                                            (all_results['data_type'] == 'real')]['score'].values - all_results[\n",
    "                                                (all_results['method'] == 'synthpop') & (all_results['data_type'] == 'real')]['score'].values\n",
    "\n",
    "results = pd.DataFrame(results)\n",
    "print(results)"
   ]
  },
  {
   "cell_type": "code",
   "execution_count": 76,
   "metadata": {},
   "outputs": [
    {
     "data": {
      "text/plain": [
       "<Axes: ylabel='Count'>"
      ]
     },
     "execution_count": 76,
     "metadata": {},
     "output_type": "execute_result"
    },
    {
     "data": {
      "image/png": "[encoded data removed]",
      "text/plain": [
       "<Figure size 640x480 with 1 Axes>"
      ]
     },
     "metadata": {},
     "output_type": "display_data"
    }
   ],
   "source": [
    "#Difference between synthpop and original, for each value\n",
    "diff = all_results.loc[all_results['method'] == 'synthpop', 'score'].values - all_results.loc[all_results['method'] == 'original', 'score'].values\n",
    "#Histogram for the difference between synthpop and original\n",
    "sns.histplot(diff)"
   ]
  }
 ],
 "metadata": {
  "kernelspec": {
   "display_name": "SyntheticData",
   "language": "python",
   "name": "python3"
  },
  "language_info": {
   "codemirror_mode": {
    "name": "ipython",
    "version": 3
   },
   "file_extension": ".py",
   "mimetype": "text/x-python",
   "name": "python",
   "nbconvert_exporter": "python",
   "pygments_lexer": "ipython3",
   "version": "3.12.3"
  }
 },
 "nbformat": 4,
 "nbformat_minor": 2
}
