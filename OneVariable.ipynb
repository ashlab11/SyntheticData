{
 "cells": [
  {
   "cell_type": "markdown",
   "metadata": {},
   "source": [
    "First, we define X_1 as a normal distribution with mean 0 and variance 1\n",
    "Then, we define X_2 as 2*X_1 + normal distribution\n",
    "Then, Y + 3X_1 + 4X_2"
   ]
  },
  {
   "cell_type": "code",
   "execution_count": 49,
   "metadata": {},
   "outputs": [
    {
     "data": {
      "text/plain": [
       "array([2.98038195, 4.01526461])"
      ]
     },
     "execution_count": 49,
     "metadata": {},
     "output_type": "execute_result"
    }
   ],
   "source": [
    "import pandas as pd\n",
    "import numpy as np\n",
    "from sklearn.linear_model import LinearRegression\n",
    "from DataSynthesizer.DataDescriber import DataDescriber\n",
    "from DataSynthesizer.DataGenerator import DataGenerator\n",
    "from DataSynthesizer.ModelInspector import ModelInspector\n",
    "from DataSynthesizer.lib.utils import read_json_file, display_bayesian_network\n",
    "\n",
    "\n",
    "\n",
    "X_1 = np.random.normal(0, 1, 1000)\n",
    "X_2 = 2*X_1 + np.random.normal(0, 1, 1000)\n",
    "X = pd.DataFrame({'X_1': X_1, 'X_2': X_2})\n",
    "Y = 3*X_1 + 4*X_2 + np.random.normal(0, 1, 1000)\n",
    "\n",
    "LinearRegression().fit(X, Y).coef_"
   ]
  },
  {
   "cell_type": "code",
   "execution_count": null,
   "metadata": {},
   "outputs": [],
   "source": [
    "DataDescriber().describe_dataset_in_correlated_attribute_mode()"
   ]
  }
 ],
 "metadata": {
  "kernelspec": {
   "display_name": "SyntheticData",
   "language": "python",
   "name": "python3"
  },
  "language_info": {
   "codemirror_mode": {
    "name": "ipython",
    "version": 3
   },
   "file_extension": ".py",
   "mimetype": "text/x-python",
   "name": "python",
   "nbconvert_exporter": "python",
   "pygments_lexer": "ipython3",
   "version": "3.12.3"
  }
 },
 "nbformat": 4,
 "nbformat_minor": 2
}
